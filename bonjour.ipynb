{
      "cells": [
        {
          "cell_type": "markdown",
          "metadata": {},
          "source": [
            "# Bonjour Notebook\n",
            "Ce notebook affiche simplement le message \"Bonjour\"."
          ]
        },
        {
          "cell_type": "code",
          "execution_count": 1,
          "metadata": {},
          "outputs": [
            {
              "name": "stdout",
              "output_type": "stream",
              "text": [
                "Bonjour\n"
              ]
            }
          ],
          "source": [
            "print(\"Bonjour\")"
          ]
        }
      ],
      "metadata": {
        "kernelspec": {
          "display_name": "Python 3",
          "language": "python",
          "name": "python3"
        },
        "language_info": {
          "codemirror_mode": {
            "name": "ipython",
            "version": 3
          },
          "file_extension": ".py",
          "mimetype": "text/x-python",
          "name": "python",
          "nbconvert_exporter": "python",
          "pygments_lexer": "ipython3",
          "version": "3.x.x"
        }
      },
      "nbformat": 4,
      "nbformat_minor": 5
    }
